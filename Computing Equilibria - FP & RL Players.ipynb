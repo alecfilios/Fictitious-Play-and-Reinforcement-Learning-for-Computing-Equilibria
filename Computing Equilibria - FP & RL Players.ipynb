{
 "cells": [
  {
   "cell_type": "markdown",
   "id": "f81e2eda",
   "metadata": {},
   "source": [
    "#  <font color='#57998f'>Computing Equilibria | FP & RL</font>\n",
    "###  <font color='#37665f'>Dependencies</font> "
   ]
  },
  {
   "cell_type": "code",
   "execution_count": 300,
   "id": "d9786381",
   "metadata": {},
   "outputs": [],
   "source": [
    "import pandas as pd\n",
    "import numpy as np\n",
    "import pulp"
   ]
  },
  {
   "cell_type": "markdown",
   "id": "8c73f14c",
   "metadata": {},
   "source": [
    "###  <font color='#37665f'>Games</font> "
   ]
  },
  {
   "cell_type": "code",
   "execution_count": 236,
   "id": "5994212e",
   "metadata": {},
   "outputs": [],
   "source": [
    "# Game: matching pennies\n",
    "payoff_matrix = np.array([[ 1,-1],\n",
    "                          [-1, 1]])\n",
    "\n",
    "# Game: rock-paper-scissors\n",
    "# payoff_matrix = np.array([[ 0,-1, 1],\n",
    "#                           [ 1, 0,-1],\n",
    "#                           [-1, 1, 0]])\n",
    "\n",
    "# Game: zero-sum with pure nash equilibrium\n",
    "# payoff_matrix = np.array([[ 2, 0, 1],\n",
    "#                           [-4,-3, 2],\n",
    "#                           [ 1,-2,-2]])"
   ]
  },
  {
   "cell_type": "markdown",
   "id": "24859b8d",
   "metadata": {},
   "source": [
    "###  <font color='#37665f'>Fictitious Play</font> \n",
    "####  <font color='#425451'>Define Player</font> "
   ]
  },
  {
   "cell_type": "code",
   "execution_count": 245,
   "id": "f9c1c393",
   "metadata": {},
   "outputs": [],
   "source": [
    "class FPZeroSumPlayer():\n",
    "\n",
    "    def __init__(self, payoff_matrix):\n",
    "        \n",
    "        self.payoff_matrix = payoff_matrix\n",
    "        \n",
    "        self.w = np.random.uniform(low=0.5, high=1.0, size=(len(self.payoff_matrix),))\n",
    "        self.p = self.w / np.sum(self.w)\n",
    "        \n",
    "        self.action = None\n",
    "        self.reward_history = []\n",
    "\n",
    "\n",
    "    def take_action(self, learning=True):\n",
    "        \n",
    "        belief = np.argmax(self.p)\n",
    "        \n",
    "        self.action = np.argmax(self.payoff_matrix[:,belief])\n",
    "\n",
    "        return self.action\n",
    "\n",
    "    \n",
    "    def learn(self,opponent_action):\n",
    "        \n",
    "        self.w[opponent_action] += 1\n",
    "        \n",
    "        self.p = self.w / np.sum(self.w)\n",
    "        \n",
    "        reward = payoff_matrix[self.action][opponent_action]\n",
    "        self.reward_history.append(reward)"
   ]
  },
  {
   "cell_type": "markdown",
   "id": "59e4116e",
   "metadata": {},
   "source": [
    "####  <font color='#425451'>Initialize Players</font> "
   ]
  },
  {
   "cell_type": "code",
   "execution_count": 246,
   "id": "9ee66b19",
   "metadata": {},
   "outputs": [],
   "source": [
    "player_1 = FPZeroSumPlayer(payoff_matrix)\n",
    "\n",
    "column_payoff_matrix = (-1) * payoff_matrix.T\n",
    "player_2 = FPZeroSumPlayer(column_payoff_matrix)"
   ]
  },
  {
   "cell_type": "markdown",
   "id": "546de3b9",
   "metadata": {},
   "source": [
    "####  <font color='#425451'>Play Game</font> "
   ]
  },
  {
   "cell_type": "code",
   "execution_count": 277,
   "id": "4b81bb4c",
   "metadata": {},
   "outputs": [],
   "source": [
    "for i in range(1000):\n",
    "    \n",
    "    action_1 = player_1.take_action()\n",
    "    action_2 = player_2.take_action()\n",
    "\n",
    "    player_1.learn(opponent_action=action_2)\n",
    "    player_2.learn(opponent_action=action_1)    "
   ]
  },
  {
   "cell_type": "code",
   "execution_count": 278,
   "id": "28883512",
   "metadata": {},
   "outputs": [
    {
     "data": {
      "text/plain": [
       "array([0.496, 0.504])"
      ]
     },
     "execution_count": 278,
     "metadata": {},
     "output_type": "execute_result"
    }
   ],
   "source": [
    "player_1.p.round(3)"
   ]
  },
  {
   "cell_type": "code",
   "execution_count": 279,
   "id": "4ff27a70",
   "metadata": {},
   "outputs": [
    {
     "data": {
      "text/plain": [
       "array([0.506, 0.494])"
      ]
     },
     "execution_count": 279,
     "metadata": {},
     "output_type": "execute_result"
    }
   ],
   "source": [
    "player_2.p.round(3)"
   ]
  },
  {
   "cell_type": "code",
   "execution_count": null,
   "id": "d58c8d6d",
   "metadata": {},
   "outputs": [],
   "source": []
  },
  {
   "cell_type": "code",
   "execution_count": null,
   "id": "8e104c27",
   "metadata": {},
   "outputs": [],
   "source": []
  },
  {
   "cell_type": "markdown",
   "id": "3e648340",
   "metadata": {},
   "source": [
    "###  <font color='#37665f'>Reinforcement Learning</font> \n",
    "####  <font color='#425451'>Reward helper function</font> "
   ]
  },
  {
   "cell_type": "code",
   "execution_count": 293,
   "id": "8930ed20",
   "metadata": {},
   "outputs": [],
   "source": [
    "def get_reward(payoff_matrix, action_1, action_2):\n",
    "    \n",
    "    reward_1 = payoff_matrix[action_1, action_2]\n",
    "    reward_2 = (-1) * payoff_matrix[action_1, action_2]\n",
    "\n",
    "    return reward_1, reward_2"
   ]
  },
  {
   "cell_type": "markdown",
   "id": "4a548369",
   "metadata": {},
   "source": [
    "####  <font color='#425451'>Define Player</font> "
   ]
  },
  {
   "cell_type": "code",
   "execution_count": 296,
   "id": "80aac129",
   "metadata": {},
   "outputs": [],
   "source": [
    "class RLZeroSumPlayer():\n",
    "\n",
    "    def __init__(self, alpha, gamma, explor, actions, state_init='s'):\n",
    "\n",
    "        self.alpha = alpha\n",
    "        self.gamma = gamma\n",
    "        self.explor = explor\n",
    "        self.actions = actions\n",
    "        self.state = state_init\n",
    "        \n",
    "        self.states = []\n",
    "        \n",
    "        self.Q = {}\n",
    "        self.V = {}\n",
    "        self.Pi = {}\n",
    "        self.action = None\n",
    "\n",
    "        self.init_state(state_init)\n",
    "\n",
    "        self.game_history = []\n",
    "        \n",
    "    def init_state(self, state):\n",
    "        \n",
    "        self.states.append(state)\n",
    "        \n",
    "        self.V[state] = 1\n",
    "\n",
    "        for action_1 in self.actions: \n",
    "            for action_2 in self.actions:\n",
    "                self.Q[(state, action_1, action_2)] = 1\n",
    "\n",
    "        for action in self.actions:\n",
    "            self.Pi[(state, action)] = 1/len(self.actions) \n",
    "\n",
    "\n",
    "    def take_action(self, learning=True):\n",
    "\n",
    "        if learning & (np.random.rand() < self.explor): \n",
    "            self.action = np.random.choice(self.actions)\n",
    "        else:\n",
    "            self.action = np.random.choice([i[1] for i in self.Pi.keys() if i[0]==self.state], \n",
    "                                           p=[self.Pi[i] for i in self.Pi.keys() if i[0]==self.state])   \n",
    "\n",
    "        return self.action\n",
    "\n",
    "    \n",
    "    def learn(self, reward, opponent_action, state='s'):\n",
    "        \n",
    "        if state not in self.states: \n",
    "            self.init_state(state)\n",
    "        \n",
    "        self.update_Q(reward, opponent_action, state)\n",
    "        self.update_Pi()\n",
    "        self.update_V(state)\n",
    "        \n",
    "        self.game_history.append((self.state, self.action, opponent_action))\n",
    "        \n",
    "        self.state = state\n",
    "\n",
    "    def update_Q(self, reward, opponent_action, new_state):\n",
    "        \n",
    "        kappa = len([i for i in player_1.game_history if i == (self.state, self.action, opponent_action)])\n",
    "        alpha = 1/kappa if kappa>0 else self.alpha\n",
    "        \n",
    "        current_Q = self.Q[(self.state, self.action, opponent_action)]\n",
    "        updated_Q = (1 - alpha)*current_Q + alpha*(reward + self.gamma*self.V[new_state])\n",
    "        \n",
    "        self.Q[(self.state, self.action, opponent_action)] = updated_Q\n",
    "\n",
    "        \n",
    "    def update_Pi(self):     \n",
    "        \n",
    "        pi = pulp.LpVariable.dicts('pi', self.actions, 0, 1)\n",
    "        maxmin = pulp.LpVariable('maxmin')\n",
    "        lp_prob = pulp.LpProblem('MaxMinQ', pulp.LpMaximize)\n",
    "        lp_prob += (maxmin, 'Objective')\n",
    "        lp_prob += (sum([pi[i] for i in self.actions]) == 1)\n",
    "\n",
    "        for opponent_action in self.actions:\n",
    "            label = '{}'.format(opponent_action)\n",
    "            l = [pi[idx] * self.Q[(self.state, action, opponent_action)] for idx, action in enumerate(self.actions)]\n",
    "            values = pulp.lpSum(l)\n",
    "            condition = maxmin <= values\n",
    "            lp_prob += condition\n",
    "\n",
    "        lp_prob.solve(pulp.PULP_CBC_CMD(msg=0))\n",
    "\n",
    "        for i in self.actions:\n",
    "            self.Pi[(self.state,i)] = pi[i].value()\n",
    "        \n",
    "    def update_V(self, state):\n",
    "        \n",
    "        expected_values = []\n",
    "\n",
    "        for opponent_action in self.actions:\n",
    "            expected_value = sum([self.Pi[(state, action)]*self.Q[(state, action, opponent_action)] for action in self.actions])\n",
    "            expected_values.append(expected_value)\n",
    "\n",
    "        self.V[self.state] = min(expected_values)\n"
   ]
  },
  {
   "cell_type": "markdown",
   "id": "1bc4cacf",
   "metadata": {},
   "source": [
    "####  <font color='#425451'>Initialize Players</font> "
   ]
  },
  {
   "cell_type": "code",
   "execution_count": 301,
   "id": "cac348a7",
   "metadata": {},
   "outputs": [],
   "source": [
    "alpha = 1\n",
    "gamma = 0.9\n",
    "explor = 0.2",
    "initial_state = 's'\n",
    "actions = list(range(len(payoff_matrix)))\n",
    "\n",
    "player_1 = RLZeroSumPlayer(alpha, gamma, explor, actions, initial_state)\n",
    "player_2 = RLZeroSumPlayer(alpha, gamma, explor, actions, initial_state)"
   ]
  },
  {
   "cell_type": "markdown",
   "id": "22746612",
   "metadata": {},
   "source": [
    "####  <font color='#425451'>Play Game</font> "
   ]
  },
  {
   "cell_type": "code",
   "execution_count": 302,
   "id": "ec4180bf",
   "metadata": {},
   "outputs": [],
   "source": [
    "for i in range(30):\n",
    "    action_1 = player_1.take_action()\n",
    "    action_2 = player_2.take_action()\n",
    "    reward_1, reward_2 = get_reward(payoff_matrix, action_1, action_2)\n",
    "\n",
    "    player_1.learn(reward=reward_1, opponent_action=action_2, state='s')\n",
    "    player_2.learn(reward=reward_2, opponent_action=action_1, state='s')"
   ]
  },
  {
   "cell_type": "code",
   "execution_count": 303,
   "id": "3fe78f12",
   "metadata": {},
   "outputs": [
    {
     "data": {
      "text/plain": [
       "{('s', 0): 1.0, ('s', 1): 0.0, ('s', 2): 0.0}"
      ]
     },
     "execution_count": 303,
     "metadata": {},
     "output_type": "execute_result"
    }
   ],
   "source": [
    "player_1.Pi"
   ]
  },
  {
   "cell_type": "code",
   "execution_count": 304,
   "id": "4969f7a4",
   "metadata": {},
   "outputs": [
    {
     "data": {
      "text/plain": [
       "{('s', 0): 0.0, ('s', 1): 1.0, ('s', 2): 0.0}"
      ]
     },
     "execution_count": 304,
     "metadata": {},
     "output_type": "execute_result"
    }
   ],
   "source": [
    "player_2.Pi"
   ]
  },
  {
   "cell_type": "code",
   "execution_count": 965,
   "id": "d8f0caad",
   "metadata": {},
   "outputs": [
    {
     "data": {
      "text/plain": [
       "{('s', 0, 0): 0.511739041418778,\n",
       " ('s', 0, 1): -0.46894533421389384,\n",
       " ('s', 0, 2): 1.5255158416624242,\n",
       " ('s', 1, 0): 1.4718432159306762,\n",
       " ('s', 1, 1): 0.5246538664620221,\n",
       " ('s', 1, 2): -0.48618140391765063,\n",
       " ('s', 2, 0): -0.46158769243854736,\n",
       " ('s', 2, 1): 1.4887251791263676,\n",
       " ('s', 2, 2): 0.5516505936055593}"
      ]
     },
     "execution_count": 965,
     "metadata": {},
     "output_type": "execute_result"
    }
   ],
   "source": [
    "player_1.Q"
   ]
  },
  {
   "cell_type": "code",
   "execution_count": 820,
   "id": "755cfc07",
   "metadata": {},
   "outputs": [
    {
     "data": {
      "text/plain": [
       "{('s', 0, 0): -3.1145124990541406,\n",
       " ('s', 0, 1): -4.460190067974099,\n",
       " ('s', 0, 2): -1.2287022756591568,\n",
       " ('s', 1, 0): -1.9921616904121933,\n",
       " ('s', 1, 1): -0.9057646991740385,\n",
       " ('s', 1, 2): -5.084471600172694,\n",
       " ('s', 2, 0): -3.1031289466270326,\n",
       " ('s', 2, 1): -3.710574216520802,\n",
       " ('s', 2, 2): 0.16267220541912877}"
      ]
     },
     "execution_count": 820,
     "metadata": {},
     "output_type": "execute_result"
    }
   ],
   "source": [
    "player_2.Q"
   ]
  },
  {
   "cell_type": "code",
   "execution_count": 806,
   "id": "5733dfa0",
   "metadata": {},
   "outputs": [
    {
     "data": {
      "text/plain": [
       "[[(2, -2), (0, 0), (1, -1)],\n",
       " [(4, -4), (-1, 1), (2, -2)],\n",
       " [(1, -1), (3, -3), (-2, 2)]]"
      ]
     },
     "execution_count": 806,
     "metadata": {},
     "output_type": "execute_result"
    }
   ],
   "source": [
    "payoff_matrix"
   ]
  },
  {
   "cell_type": "code",
   "execution_count": null,
   "id": "b39f7e0c",
   "metadata": {},
   "outputs": [],
   "source": []
  },
  {
   "cell_type": "code",
   "execution_count": null,
   "id": "bc71b2ee",
   "metadata": {},
   "outputs": [],
   "source": []
  },
  {
   "cell_type": "code",
   "execution_count": null,
   "id": "b86b72d7",
   "metadata": {},
   "outputs": [],
   "source": []
  },
  {
   "cell_type": "code",
   "execution_count": null,
   "id": "06c8be30",
   "metadata": {},
   "outputs": [],
   "source": []
  },
  {
   "cell_type": "code",
   "execution_count": null,
   "id": "32f133bd",
   "metadata": {},
   "outputs": [],
   "source": []
  },
  {
   "cell_type": "code",
   "execution_count": null,
   "id": "e6d903ce",
   "metadata": {},
   "outputs": [],
   "source": []
  },
  {
   "cell_type": "markdown",
   "id": "22316816",
   "metadata": {},
   "source": [
    "####  <font color='#425451'>Drafts</font> "
   ]
  },
  {
   "cell_type": "code",
   "execution_count": 378,
   "id": "5d1b33b0",
   "metadata": {},
   "outputs": [
    {
     "data": {
      "text/plain": [
       "[0.0, 0.0, 1.0]"
      ]
     },
     "execution_count": 378,
     "metadata": {},
     "output_type": "execute_result"
    }
   ],
   "source": [
    "pi = pulp.LpVariable.dicts('pi', player_1.actions, 0, 1)\n",
    "maxmin = pulp.LpVariable('maxmin')\n",
    "lp_prob = pulp.LpProblem('MaxMinQ', pulp.LpMaximize)\n",
    "lp_prob += (maxmin, 'Objective')\n",
    "lp_prob += (sum([pi[i] for i in player_1.actions]) == 1)\n",
    "\n",
    "for opponent_action in player_1.actions:\n",
    "    label = '{}'.format(opponent_action)\n",
    "    l = [pi[idx] * player_1.Q[(player_1.state, action, opponent_action)] for idx, action in enumerate(player_1.actions)]\n",
    "    values = pulp.lpSum(l)\n",
    "    condition = maxmin <= values\n",
    "    lp_prob += condition\n",
    "    \n",
    "lp_prob.solve(pulp.PULP_CBC_CMD(msg=0))\n",
    "\n",
    "for i in player_1.actions:\n",
    "    player_1.Pi[(player_1.state,i)] = pi[i].value()"
   ]
  },
  {
   "cell_type": "code",
   "execution_count": 380,
   "id": "f76a6017",
   "metadata": {},
   "outputs": [
    {
     "data": {
      "text/plain": [
       "MaxMinQ:\n",
       "MAXIMIZE\n",
       "1*maxmin + 0\n",
       "SUBJECT TO\n",
       "_C1: pi_0 + pi_1 + pi_2 = 1\n",
       "\n",
       "_C2: maxmin - pi_0 - pi_1 - pi_2 <= 0\n",
       "\n",
       "_C3: maxmin - pi_0 - pi_1 - 1.9 pi_2 <= 0\n",
       "\n",
       "_C4: maxmin - pi_0 - pi_1 - pi_2 <= 0\n",
       "\n",
       "VARIABLES\n",
       "maxmin free Continuous\n",
       "pi_0 <= 1 Continuous\n",
       "pi_1 <= 1 Continuous\n",
       "pi_2 <= 1 Continuous"
      ]
     },
     "execution_count": 380,
     "metadata": {},
     "output_type": "execute_result"
    }
   ],
   "source": [
    "lp_prob"
   ]
  },
  {
   "cell_type": "code",
   "execution_count": 26,
   "id": "2a4e0f41",
   "metadata": {},
   "outputs": [
    {
     "data": {
      "text/plain": [
       "Text(0.5, 0, '\\n Training Dataset Size')"
      ]
     },
     "execution_count": 26,
     "metadata": {},
     "output_type": "execute_result"
    },
    {
     "data": {
      "image/png": "[encoded data removed]",
      "text/plain": [
       "<Figure size 1080x360 with 1 Axes>"
      ]
     },
     "metadata": {},
     "output_type": "display_data"
    }
   ],
   "source": [
    "import pandas as pd\n",
    "import numpy as np\n",
    "\n",
    "import matplotlib\n",
    "import seaborn as sns\n",
    "import matplotlib.pyplot as plt\n",
    "from pandas.plotting import register_matplotlib_converters\n",
    "register_matplotlib_converters()\n",
    "\n",
    "plt.style.use('seaborn')\n",
    "color_plt = sns.color_palette(\"ch:s=.25,rot=-.25\")\n",
    "fig = matplotlib.pyplot.gcf()\n",
    "fig.set_size_inches(15, 5)\n",
    "ax = plt.gca()\n",
    "\n",
    "plot = plt.plot([i for i in range(len(rewards_p1_cum))], rewards_p1_cum, ls ='--', color=color_plt[1], label='')\n",
    "plot = plt.plot([i for i in range(len(rewards_p2_cum))], rewards_p2_cum, ls ='--', color=color_plt[3], label='')\n",
    "\n",
    "plt.suptitle('Avg. Accuracy Difference per Training Dataset size', fontsize=16)\n",
    "plt.title('(avg. accuracy difference is calculated in 100 experiments per training size)       ')\n",
    "plt.yticks(fontsize=10)\n",
    "plt.ylabel('Avg. Accuracy Difference\\n', fontsize=11, color='black')\n",
    "plt.xlabel('\\n Training Dataset Size', fontsize=11, color='black')"
   ]
  },
  {
   "cell_type": "code",
   "execution_count": 305,
   "id": "486c7eb9",
   "metadata": {},
   "outputs": [],
   "source": [
    "# c=0\n",
    "# rewards_p2_cum = np.array([])\n",
    "# for i in rewards_p2:\n",
    "#     print(c)\n",
    "#     c += i\n",
    "#     rewards_p2_cum = np.append(rewards_p2_cum, c)"
   ]
  },
  {
   "cell_type": "code",
   "execution_count": 94,
   "id": "7ec874cb",
   "metadata": {},
   "outputs": [],
   "source": [
    "rewards_p1_cum = np.array([])\n"
   ]
  },
  {
   "cell_type": "code",
   "execution_count": null,
   "id": "538be61e",
   "metadata": {},
   "outputs": [],
   "source": []
  }
 ],
 "metadata": {
  "kernelspec": {
   "display_name": "Python 3 (ipykernel)",
   "language": "python",
   "name": "python3"
  },
  "language_info": {
   "codemirror_mode": {
    "name": "ipython",
    "version": 3
   },
   "file_extension": ".py",
   "mimetype": "text/x-python",
   "name": "python",
   "nbconvert_exporter": "python",
   "pygments_lexer": "ipython3",
   "version": "3.9.6"
  }
 },
 "nbformat": 4,
 "nbformat_minor": 5
}
